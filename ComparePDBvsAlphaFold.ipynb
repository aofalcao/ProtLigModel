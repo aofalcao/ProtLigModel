{
 "cells": [
  {
   "cell_type": "code",
   "execution_count": 1,
   "id": "84b77f64-ce06-4815-8bc3-11f0a25aeb13",
   "metadata": {
    "tags": []
   },
   "outputs": [],
   "source": [
    "import pandas as pd\n",
    "import urllib.request\n",
    "import numpy as np\n",
    "import math\n"
   ]
  },
  {
   "cell_type": "markdown",
   "id": "de392b71-c0e6-4393-a3e6-709af60fd5d0",
   "metadata": {},
   "source": [
    "## How to process real world PDB files\n",
    "\n",
    "Be careful with:\n",
    "* For the same Uniprot ID there may be tens of PDB files\n",
    "* It is important to select the longest AA chains with coordinates - other criteria might be used\n",
    "* sometimes several chains, with different parts of the sequence represented\n",
    "* The Uniprot format for PDB entries is inconsistent and the code below has been wicked for the 144 proteins in our dataset. It is not guaranteed that it will work for other PDB files\n"
   ]
  },
  {
   "cell_type": "code",
   "execution_count": 2,
   "id": "836761ff-6732-49f4-a196-5cee022cf1a7",
   "metadata": {
    "tags": []
   },
   "outputs": [],
   "source": [
    "# Helper function to download data\n",
    "\n",
    "def get_uniprot_PDB_ids(uniprot_list):\n",
    "    D = {}\n",
    "\n",
    "    for c, prot in enumerate(uniprot_list):\n",
    "        url=\"https://rest.uniprot.org/uniprotkb/{}.txt\".format(prot)\n",
    "        contents = urllib.request.urlopen(url).read()\n",
    "        uniprot_res=contents.decode(\"utf-8\").split(\"\\n\")\n",
    "        best_siz = -1\n",
    "        best_pdb = \"\"\n",
    "        best_chn = []\n",
    "        print(c, \"-->\", prot)\n",
    "        for lin in uniprot_res:\n",
    "            if 'DR   PDB;' in lin:\n",
    "                pos_eq=lin.find(\"=\")\n",
    "                pos_pdb = lin.find(\"PDB;\")+4\n",
    "                pos_pdb_end = lin[pos_pdb:].find(\";\")\n",
    "                pdb_file=lin[pos_pdb:pos_pdb+pos_pdb_end]\n",
    "                if lin[pos_eq:].find(\",\")==-1:\n",
    "                    #regular: - nothing after\n",
    "                    pos_A=lin.rfind(\";\")+2\n",
    "                    rng=lin[pos_eq+1:]\n",
    "                    strt, end = [i for i in rng[:-1].split(\"-\")]\n",
    "                    if len(strt)>0 and len(end)>0:\n",
    "                        strt, end=abs(int(strt)), abs(int(end))\n",
    "                        siz = end - strt + 1\n",
    "                        chains=[(lin[pos_A], strt, end)]\n",
    "                        #print(rng, type(strt), type(end), siz)\n",
    "                    else:\n",
    "                        siz=-1\n",
    "                else:\n",
    "                    pos_A=lin.rfind(\";\")+2 #last ;\n",
    "                    S    = lin[pos_A:]\n",
    "                    seqs = S.split(\",\")\n",
    "                    siz=0\n",
    "                    chains=[]\n",
    "                    for s in seqs:\n",
    "                        s=s.strip().replace(\".\", \"\")\n",
    "                        pos_eq=s.find(\"=\")\n",
    "                        rng = s[pos_eq+1:]\n",
    "                        strt, end = [abs(int(i)) for i in rng.split(\"-\")]\n",
    "                        siz += end - strt + 1\n",
    "                        #print(rng, strt, end, siz)\n",
    "                        chains.append((s[0], strt, end))\n",
    "                        \n",
    "                if siz > best_siz:\n",
    "                    best_siz = siz\n",
    "                    best_pdb = pdb_file\n",
    "                    best_chn = chains\n",
    "                    #print(prot, best_pdb, best_siz)\n",
    "                        \n",
    "        D[prot]=(best_pdb.strip(), best_siz, best_chn)\n",
    "    return D\n",
    "                \n",
    "                    \n",
    "                    \n"
   ]
  },
  {
   "cell_type": "markdown",
   "id": "15d0e515-5172-4f7f-9691-1592ad8ef2a6",
   "metadata": {},
   "source": [
    "Here's a test"
   ]
  },
  {
   "cell_type": "code",
   "execution_count": 3,
   "id": "2d971b20-dc1f-49c1-bca6-8c8507c005c1",
   "metadata": {
    "tags": []
   },
   "outputs": [
    {
     "name": "stdout",
     "output_type": "stream",
     "text": [
      "0 --> P21452\n"
     ]
    },
    {
     "data": {
      "text/plain": [
       "{'P21452': ('7XWO', 345, [('B', 1, 345)])}"
      ]
     },
     "execution_count": 3,
     "metadata": {},
     "output_type": "execute_result"
    }
   ],
   "source": [
    "up_ids=[lin.strip() for lin in open(\"ids_144.txt\", \"rt\").readlines()]\n",
    "d = get_uniprot_PDB_ids(up_ids[20:21])\n",
    "d"
   ]
  },
  {
   "cell_type": "markdown",
   "id": "80670ac6-3dfc-4892-bb89-9623f0793d47",
   "metadata": {},
   "source": [
    "## Identify the best PDB files for each Uniprot ID\n",
    "\n",
    "It will produce a list with Uniprot_id, PDB Id, n. of amino acids with coords, and chains to use"
   ]
  },
  {
   "cell_type": "code",
   "execution_count": 4,
   "id": "63d286e5-1c6b-4da6-b285-72f2f04e69a2",
   "metadata": {
    "tags": []
   },
   "outputs": [
    {
     "name": "stdout",
     "output_type": "stream",
     "text": [
      "0 --> O14842\n",
      "1 --> O43193\n",
      "2 --> O43613\n",
      "3 --> O43614\n",
      "4 --> O95665\n",
      "5 --> P05067\n",
      "6 --> P07550\n",
      "7 --> P08172\n",
      "8 --> P08173\n",
      "9 --> P08588\n",
      "10 --> P08908\n",
      "11 --> P08912\n",
      "12 --> P08913\n",
      "13 --> P0DMS8\n",
      "14 --> P11229\n",
      "15 --> P13945\n",
      "16 --> P14416\n",
      "17 --> P18089\n",
      "18 --> P18825\n",
      "19 --> P20309\n",
      "20 --> P21452\n",
      "21 --> P21453\n",
      "22 --> P21554\n",
      "23 --> P21728\n",
      "24 --> P21730\n",
      "25 --> P21731\n",
      "26 --> P21917\n",
      "27 --> P21918\n",
      "28 --> P24530\n",
      "29 --> P25021\n",
      "30 --> P25024\n",
      "31 --> P25025\n",
      "32 --> P25098\n",
      "33 --> P25100\n",
      "34 --> P25101\n",
      "35 --> P25103\n",
      "36 --> P25106\n",
      "37 --> P25116\n",
      "38 --> P25929\n",
      "39 --> P28221\n",
      "40 --> P28222\n",
      "41 --> P28223\n",
      "42 --> P28335\n",
      "43 --> P28336\n",
      "44 --> P28566\n",
      "45 --> P28845\n",
      "46 --> P29274\n",
      "47 --> P29275\n",
      "48 --> P29371\n",
      "49 --> P30411\n",
      "50 --> P30518\n",
      "51 --> P30542\n",
      "52 --> P30550\n",
      "53 --> P30556\n",
      "54 --> P30559\n",
      "55 --> P30872\n",
      "56 --> P30874\n",
      "57 --> P30939\n",
      "58 --> P30968\n",
      "59 --> P30989\n",
      "60 --> P31391\n",
      "61 --> P32238\n",
      "62 --> P32239\n",
      "63 --> P32245\n",
      "64 --> P32246\n",
      "65 --> P32745\n",
      "66 --> P33032\n",
      "67 --> P34947\n",
      "68 --> P34969\n",
      "69 --> P34972\n",
      "70 --> P34995\n",
      "71 --> P34998\n",
      "72 --> P35346\n",
      "73 --> P35348\n",
      "74 --> P35367\n",
      "75 --> P35368\n",
      "76 --> P35372\n",
      "77 --> P35408\n",
      "78 --> P35414\n",
      "79 --> P35462\n",
      "80 --> P37288\n",
      "81 --> P41143\n",
      "82 --> P41145\n",
      "83 --> P41146\n",
      "84 --> P41594\n",
      "85 --> P41595\n",
      "86 --> P41597\n",
      "87 --> P41968\n",
      "88 --> P42345\n",
      "89 --> P43088\n",
      "90 --> P43115\n",
      "91 --> P43119\n",
      "92 --> P43220\n",
      "93 --> P46663\n",
      "94 --> P47211\n",
      "95 --> P47871\n",
      "96 --> P47898\n",
      "97 --> P47900\n",
      "98 --> P47901\n",
      "99 --> P48039\n",
      "100 --> P49146\n",
      "101 --> P49238\n",
      "102 --> P49286\n",
      "103 --> P49682\n",
      "104 --> P49683\n",
      "105 --> P50052\n",
      "106 --> P50391\n",
      "107 --> P50406\n",
      "108 --> P51677\n",
      "109 --> P51679\n",
      "110 --> P51681\n",
      "111 --> P51685\n",
      "112 --> P51686\n",
      "113 --> Q01726\n",
      "114 --> Q05397\n",
      "115 --> Q08499\n",
      "116 --> Q13255\n",
      "117 --> Q13258\n",
      "118 --> Q13639\n",
      "119 --> Q14289\n",
      "120 --> Q14416\n",
      "121 --> Q14832\n",
      "122 --> Q15722\n",
      "123 --> Q15761\n",
      "124 --> Q16602\n",
      "125 --> Q92633\n",
      "126 --> Q92847\n",
      "127 --> Q969F8\n",
      "128 --> Q99705\n",
      "129 --> Q9GZQ6\n",
      "130 --> Q9H244\n",
      "131 --> Q9H3N8\n",
      "132 --> Q9HC97\n",
      "133 --> Q9NQS5\n",
      "134 --> Q9UBY5\n",
      "135 --> Q9UKP6\n",
      "136 --> Q9Y5N1\n",
      "137 --> Q9Y5X5\n",
      "138 --> Q9Y5Y4\n",
      "139 --> P43116\n",
      "140 --> Q6DWJ6\n",
      "141 --> Q8TDV5\n",
      "142 --> Q969V1\n",
      "143 --> Q96RJ0\n"
     ]
    }
   ],
   "source": [
    "import pickle\n",
    "\n",
    "up_ids=[lin.strip() for lin in open(\"ids_144.txt\", \"rt\").readlines()]\n",
    "data = get_uniprot_PDB_ids(up_ids)\n",
    "\n",
    "up_pdbs=[(ui, data[ui][0], data[ui][1], data[ui][2]) for ui in up_ids]\n",
    "pickle.dump(up_pdbs, open(\"uniprot_pdbs.pickle\", \"wb\"))"
   ]
  },
  {
   "cell_type": "code",
   "execution_count": null,
   "id": "52cd14e7-daf2-4934-8826-885cd2091cd3",
   "metadata": {
    "tags": []
   },
   "outputs": [],
   "source": [
    "data"
   ]
  },
  {
   "cell_type": "markdown",
   "id": "6834b2c3-df83-43ef-b090-44c6ecb00647",
   "metadata": {},
   "source": [
    "## Actually retrieve the PDB files and process them \n",
    "\n",
    "* The code below is mostly without changes from the Alphafold approach\n",
    "* N. BITS = 16381 (closest prime below 2^14)\n",
    "* it will produce for each PDB file the respective fingerprints"
   ]
  },
  {
   "cell_type": "code",
   "execution_count": 5,
   "id": "ae979b3e-1f2a-4083-a57f-32698650f6fd",
   "metadata": {
    "tags": []
   },
   "outputs": [],
   "source": [
    "import requests\n",
    "\n",
    "aas3to1 = {'ALA': 'A',\n",
    "        'ARG': 'R',\n",
    "        'ASN': 'N',\n",
    "        'ASP': 'D',\n",
    "        'ASX': 'B',\n",
    "        'CYS': 'C',\n",
    "        'GLU': 'E',\n",
    "        'GLN': 'Q',\n",
    "        'GLX': 'Z',\n",
    "        'GLY': 'G',\n",
    "        'HIS': 'H',\n",
    "        'ILE': 'I',\n",
    "        'LEU': 'L',\n",
    "        'LYS': 'K',\n",
    "        'MET': 'M',\n",
    "        'PHE': 'F',\n",
    "        'PRO': 'P',\n",
    "        'SER': 'S',\n",
    "        'THR': 'T',\n",
    "        'TRP': 'W',\n",
    "        'TYR': 'Y',\n",
    "        'VAL': 'V'}\n",
    "\n",
    "import scipy\n",
    "def extractAtomData(data, chains):\n",
    "\n",
    "    #creades distance matrix, atom coordinates and atoms -> amino acids\n",
    "    atoms_aas=[]\n",
    "    coords=[]\n",
    "    for line in data:\n",
    "        #fs=line.strip().split()\n",
    "        ATOM = line[:4]\n",
    "        if ATOM==\"ATOM\":\n",
    "            #ATOM, aid, atm, aa, lixo, aaid, x,y,z, s1, s2, atm2=fs\n",
    "            CHAIN =line[21]\n",
    "            if CHAIN in chains:\n",
    "                aid = line[6:11].strip()\n",
    "                x = float(line[30:38].strip())\n",
    "                y = float(line[38:46].strip())\n",
    "                z = float(line[46:54].strip())\n",
    "                aa = line[17:20].strip()\n",
    "                aaid = line[22:26].strip()\n",
    "                aid=int(aid)\n",
    "                #x,y,z, = float(x), float(y), float(z)\n",
    "                atoms_aas.append(aas3to1[aa]+aaid)\n",
    "                coords.append([x,y,z])\n",
    "    \n",
    "    coords=np.array(coords)\n",
    "    atoms_aas=np.array(atoms_aas)        \n",
    "    DM = scipy.spatial.distance_matrix(coords, coords)\n",
    "    return DM, coords, atoms_aas\n",
    "\n",
    "\n",
    "\n",
    "def process_fp(fp):\n",
    "    #returns processed aminoacids without ids from aas, but distinguishing different occurrences of the same AA\n",
    "    L=sorted(list(fp))\n",
    "    idx=0\n",
    "    prev=L[0][0]\n",
    "    L2=[prev+str(idx)]\n",
    "    for i in L[1:]: \n",
    "        if i[0]==prev: idx+=1\n",
    "        else: idx=0\n",
    "        prev=i[0]\n",
    "        L2.append(prev+str(idx))\n",
    "    return frozenset(L2)\n",
    "\n",
    "def compute_fps(DM, coords, atoms_aas, max_dist=5):\n",
    "    fps=[]\n",
    "    N=coords.shape[0]\n",
    "    for i in range(N) :\n",
    "        fp=set(atoms_aas[DM[i]<max_dist])\n",
    "        if len(fp)>2:  \n",
    "            fps.append(process_fp(fp))\n",
    "    return set(fps)\n",
    "\n",
    "def getFPs(pdb_id, chains, max_dist=5):\n",
    "    pdb_file_url = f\"https://www.ebi.ac.uk/pdbe/entry-files/download/pdb{pdb_id.lower()}.ent\"\n",
    "    pdb_file_response = requests.get(pdb_file_url)\n",
    "    pdb_file_response.raise_for_status()  # Raise an exception for bad responses\n",
    "    data = pdb_file_response.content.decode(\"utf-8\").split(\"\\n\")    \n",
    "    dm, crds, aaas = extractAtomData(data, chains)\n",
    "    fps=compute_fps(dm, crds, aaas, max_dist)\n",
    "    \n",
    "    return fps\n",
    "\n",
    "def h(fp_set, n=16381):\n",
    "    fp = [0]*n\n",
    "    hs = [hash(h) % n for h in fp_set]\n",
    "    hs = set(hs)\n",
    "    for item in hs:\n",
    "        fp[item] = 1\n",
    "    return fp\n",
    "\n"
   ]
  },
  {
   "cell_type": "code",
   "execution_count": 6,
   "id": "1ab0687f-531d-42ed-aa4b-bd44bddf3f71",
   "metadata": {
    "tags": []
   },
   "outputs": [
    {
     "name": "stdout",
     "output_type": "stream",
     "text": [
      "0 O14842 8EIT 299 ['R'] DONE!\n",
      "1 O43193 8IBU 412 ['R'] DONE!\n",
      "2 O43613 6TQ9 354 ['A'] DONE!\n",
      "3 O43614 7SQO 444 ['R'] DONE!\n",
      "4 O95665  -1 [] not present...\n",
      "5 P05067 5BUO 341 ['A'] DONE!\n",
      "6 P07550 2R4R 365 ['A'] DONE!\n",
      "7 P08172 4MQS 466 ['A'] DONE!\n",
      "8 P08173 7TRK 479 ['R'] DONE!\n",
      "9 P08588 7BTS 346 ['A'] DONE!\n",
      "10 P08908 7E2X 398 ['R'] DONE!\n",
      "11 P08912 6OL9 306 ['A', 'A'] DONE!\n",
      "12 P08913 7EJ0 465 ['R'] DONE!\n",
      "13 P0DMS8  -1 [] not present...\n",
      "14 P11229 6OIJ 459 ['R'] DONE!\n",
      "15 P13945  -1 [] not present...\n",
      "16 P14416 7JVR 443 ['R'] DONE!\n",
      "17 P18089 6K42 444 ['R'] DONE!\n",
      "18 P18825 6KUW 300 ['A', 'A'] DONE!\n",
      "19 P20309 8E9W 545 ['A'] DONE!\n",
      "20 P21452 7XWO 345 ['B'] DONE!\n",
      "21 P21453 7EO4 382 ['A'] DONE!\n",
      "22 P21554 6N4B 472 ['R'] DONE!\n",
      "23 P21728 7CKW 446 ['R'] DONE!\n",
      "24 P21730 8HK5 350 ['A'] DONE!\n",
      "25 P21731  -1 [] not present...\n",
      "26 P21917 5WIU 313 ['A', 'A'] DONE!\n",
      "27 P21918 8IRV 477 ['R'] DONE!\n",
      "28 P24530 8HBD 398 ['R'] DONE!\n",
      "29 P25021 7UL3 311 ['A', 'A'] DONE!\n",
      "30 P25024 8IC0 350 ['A'] DONE!\n",
      "31 P25025 6LFM 360 ['R'] DONE!\n",
      "32 P25098 3CIK 689 ['A'] DONE!\n",
      "33 P25100  -1 [] not present...\n",
      "34 P25101 8HCQ 387 ['R'] DONE!\n",
      "35 P25103 7RMG 407 ['R'] DONE!\n",
      "36 P25106 7SK3 361 ['A'] DONE!\n",
      "37 P25116 3VW7 310 ['A'] DONE!\n",
      "38 P25929 7VGX 384 ['R'] DONE!\n",
      "39 P28221 7E32 376 ['R'] DONE!\n",
      "40 P28222 6G79 357 ['S'] DONE!\n",
      "41 P28223 6WHA 339 ['A'] DONE!\n",
      "42 P28335 8DPF 458 ['A'] DONE!\n",
      "43 P28336  -1 [] not present...\n",
      "44 P28566 7E33 364 ['R'] DONE!\n",
      "45 P28845 4BB5 292 ['A'] DONE!\n",
      "46 P29274 2YDO 317 ['A'] DONE!\n",
      "47 P29275 8HDO 332 ['R'] DONE!\n",
      "48 P29371  -1 [] not present...\n",
      "49 P30411 7F6H 367 ['A'] DONE!\n",
      "50 P30518 7DW9 371 ['R'] DONE!\n",
      "51 P30542 6D9H 325 ['R'] DONE!\n",
      "52 P30550 7W3Z 329 ['A'] DONE!\n",
      "53 P30556 4YAY 318 ['A'] DONE!\n",
      "54 P30559 7RYC 389 ['O'] DONE!\n",
      "55 P30872  -1 [] not present...\n",
      "56 P30874 7WIC 369 ['R'] DONE!\n",
      "57 P30939 7EXD 366 ['R'] DONE!\n",
      "58 P30968 7BR3 314 ['A', 'A'] DONE!\n",
      "59 P30989 6OS9 399 ['R'] DONE!\n",
      "60 P31391 7XMS 327 ['R'] DONE!\n",
      "61 P32238 7EZH 428 ['D'] DONE!\n",
      "62 P32239 7XOW 447 ['R'] DONE!\n",
      "63 P32245 7AUE 332 ['R'] DONE!\n",
      "64 P32246 7VL8 355 ['R'] DONE!\n",
      "65 P32745  -1 [] not present...\n",
      "66 P33032  -1 [] not present...\n",
      "67 P34947 4TNB 590 ['A'] DONE!\n",
      "68 P34969 7XTC 431 ['R'] DONE!\n",
      "69 P34972 6KPF 360 ['R'] DONE!\n",
      "70 P34995  -1 [] not present...\n",
      "71 P34998 6P9X 422 ['R'] DONE!\n",
      "72 P35346  -1 [] not present...\n",
      "73 P35348  -1 [] not present...\n",
      "74 P35367 7DFL 487 ['R'] DONE!\n",
      "75 P35368  -1 [] not present...\n",
      "76 P35372 8F7Q 387 ['M'] DONE!\n",
      "77 P35408 5YHL 363 ['A'] DONE!\n",
      "78 P35414 7W0L 329 ['Q'] DONE!\n",
      "79 P35462 7CMU 400 ['R'] DONE!\n",
      "80 P37288 1YTV 57 ['M'] DONE!\n",
      "81 P41143 8F7S 371 ['D'] DONE!\n",
      "82 P41145 8F7W 378 ['R'] DONE!\n",
      "83 P41146 8F7X 369 ['R'] DONE!\n",
      "84 P41594 6N4X 846 ['A'] DONE!\n",
      "85 P41595 7SRS 429 ['R'] DONE!\n",
      "86 P41597 7XA3 318 ['R'] DONE!\n",
      "87 P41968  -1 [] not present...\n",
      "88 P42345 5H64 2549 ['A'] DONE!\n",
      "89 P43088 8IUK 359 ['R'] DONE!\n",
      "90 P43115 6M9T 339 ['A', 'A'] DONE!\n",
      "91 P43119  -1 [] not present...\n",
      "92 P43220 7RTB 442 ['R'] DONE!\n",
      "93 P46663 7EIB 349 ['A'] DONE!\n",
      "94 P47211 7WQ3 349 ['R'] DONE!\n",
      "95 P47871 6WHC 477 ['R'] DONE!\n",
      "96 P47898 7X5H 356 ['R'] DONE!\n",
      "97 P47900 7XXH 372 ['R'] DONE!\n",
      "98 P47901  -1 [] not present...\n",
      "99 P48039 7VGY 350 ['A'] DONE!\n",
      "100 P49146 7YON 380 ['R'] DONE!\n",
      "101 P49238 7XBW 315 ['R'] DONE!\n",
      "102 P49286 7VH0 362 ['A'] DONE!\n",
      "103 P49682  -1 [] not present...\n",
      "104 P49683  -1 [] not present...\n",
      "105 P50052 6JOD 312 ['A'] DONE!\n",
      "106 P50391 7X9C 342 ['R'] DONE!\n",
      "107 P50406 8JLZ 440 ['R'] DONE!\n",
      "108 P51677 7X9Y 355 ['R'] DONE!\n",
      "109 P51679  -1 [] not present...\n",
      "110 P51681 7O7F 352 ['C'] DONE!\n",
      "111 P51685  -1 [] not present...\n",
      "112 P51686 5LWE 318 ['A'] DONE!\n",
      "113 Q01726 7F4D 317 ['R'] DONE!\n",
      "114 Q05397 4NY0 375 ['A'] DONE!\n",
      "115 Q08499 5WH6 507 ['A'] DONE!\n",
      "116 Q13255 7DGD 833 ['A'] DONE!\n",
      "117 Q13258  -1 [] not present...\n",
      "118 Q13639 7XT8 387 ['R'] DONE!\n",
      "119 Q14289 4EKU 389 ['A'] DONE!\n",
      "120 Q14416 7MTQ 855 ['A'] DONE!\n",
      "121 Q14832 7WI6 857 ['A'] DONE!\n",
      "122 Q15722 7VKT 352 ['A'] DONE!\n",
      "123 Q15761  -1 [] not present...\n",
      "124 Q16602 6E3Y 440 ['R'] DONE!\n",
      "125 Q92633 7YU3 363 ['R'] DONE!\n",
      "126 Q92847 7F9Y 366 ['R'] DONE!\n",
      "127 Q969F8  -1 [] not present...\n",
      "128 Q99705  -1 [] not present...\n",
      "129 Q9GZQ6  -1 [] not present...\n",
      "130 Q9H244 4NTJ 341 ['A'] DONE!\n",
      "131 Q9H3N8  -1 [] not present...\n",
      "132 Q9HC97 8H8J 308 ['C'] DONE!\n",
      "133 Q9NQS5 8J18 396 ['R'] DONE!\n",
      "134 Q9UBY5  -1 [] not present...\n",
      "135 Q9UKP6 6HVK 14 ['A'] DONE!\n",
      "136 Q9Y5N1 7F61 407 ['A'] DONE!\n",
      "137 Q9Y5X5  -1 [] not present...\n",
      "138 Q9Y5Y4 6D26 339 ['A'] DONE!\n",
      "139 P43116 7CX2 358 ['R'] DONE!\n",
      "140 Q6DWJ6 7VUG 320 ['R'] DONE!\n",
      "141 Q8TDV5 7WCM 335 ['R'] DONE!\n",
      "142 Q969V1  -1 [] not present...\n",
      "143 Q96RJ0  -1 [] not present...\n",
      "N. Fails: 31\n"
     ]
    }
   ],
   "source": [
    "\n",
    "dist = 5\n",
    "fails=0\n",
    "for i, (up, pdb, siz, chains) in enumerate(up_pdbs):\n",
    "    the_chains=[c for c, st, end in chains]\n",
    "    print(i, up, pdb, siz, the_chains, end=\" \")\n",
    "    if siz > -1:\n",
    "        fps= getFPs(pdb, the_chains, dist)\n",
    "        fps = h(fps)\n",
    "        pickle.dump(fps, open(\"../../Desktop/PDB_data/fp_dist{}_ki/{}_D{}.pickle\".format(dist,up,dist), \"wb\"))\n",
    "        print(\"DONE!\")\n",
    "    else:\n",
    "        print(\"not present...\")\n",
    "        fails+=1\n",
    "print(\"N. Fails:\", fails)"
   ]
  },
  {
   "cell_type": "code",
   "execution_count": 7,
   "id": "ee9a9857-6d9c-4c14-be8e-c5c5224f991a",
   "metadata": {
    "tags": []
   },
   "outputs": [
    {
     "data": {
      "text/plain": [
       "0.7847222222222222"
      ]
     },
     "execution_count": 7,
     "metadata": {},
     "output_type": "execute_result"
    }
   ],
   "source": [
    "113/144"
   ]
  },
  {
   "cell_type": "markdown",
   "id": "a225fb7c-a522-4af1-a081-9efaefdb8add",
   "metadata": {},
   "source": [
    "## Create the FP matrix for PCA\n",
    "\n",
    "Finally we can process the PCA of the fingerprint matrix"
   ]
  },
  {
   "cell_type": "code",
   "execution_count": 8,
   "id": "6ec46cf0-ada3-45f9-a5df-416a2cace51f",
   "metadata": {
    "tags": []
   },
   "outputs": [
    {
     "data": {
      "text/plain": [
       "array([[0, 0, 0, 0, 0, 0, 0, 0, 1, 0, 1, 0, 0, 0, 0, 0, 0, 0, 0, 0],\n",
       "       [0, 0, 0, 0, 0, 0, 0, 0, 0, 0, 0, 0, 0, 0, 0, 0, 0, 0, 0, 0],\n",
       "       [0, 0, 0, 0, 0, 0, 0, 1, 0, 0, 1, 0, 0, 0, 0, 0, 0, 0, 0, 0],\n",
       "       [0, 0, 0, 0, 0, 1, 0, 1, 0, 0, 0, 0, 0, 0, 0, 1, 1, 0, 0, 0],\n",
       "       [0, 0, 0, 1, 0, 0, 0, 0, 0, 0, 0, 0, 0, 0, 0, 0, 0, 0, 0, 0],\n",
       "       [0, 0, 0, 0, 0, 0, 0, 0, 0, 0, 0, 0, 0, 0, 0, 1, 0, 0, 0, 0],\n",
       "       [0, 0, 0, 1, 0, 0, 0, 0, 0, 0, 0, 0, 0, 0, 0, 0, 0, 1, 0, 0],\n",
       "       [1, 0, 0, 0, 0, 0, 0, 1, 0, 0, 0, 0, 0, 0, 0, 0, 0, 0, 0, 0],\n",
       "       [1, 0, 0, 0, 0, 0, 0, 0, 0, 0, 0, 1, 0, 0, 0, 0, 1, 0, 0, 0],\n",
       "       [0, 0, 0, 0, 0, 0, 0, 0, 0, 0, 0, 0, 0, 0, 1, 0, 0, 0, 0, 0]])"
      ]
     },
     "execution_count": 8,
     "metadata": {},
     "output_type": "execute_result"
    }
   ],
   "source": [
    "dist=5 #still\n",
    "\n",
    "#This is really important! The IDs of the proteins for which we can make models\n",
    "prots_ok = [up for up, pdb, siz, chains in up_pdbs if siz>0]\n",
    "\n",
    "N=len(prots_ok)\n",
    "M=16381 #fp num bits\n",
    "FP_mat=np.zeros((N,M), int)\n",
    "for i,prot in enumerate(prots_ok):\n",
    "    FP_mat[i,:]=pickle.load(open(\"../../Desktop/PDB_data/pdb_paas/{}_D{}.pickle\".format(prot,dist), \"rb\"))\n",
    "\n",
    "\n",
    "FP_mat[:10, :20]\n"
   ]
  },
  {
   "cell_type": "code",
   "execution_count": 9,
   "id": "1f15cde3-ef74-459d-b9f9-2cc8746b9d68",
   "metadata": {
    "tags": []
   },
   "outputs": [
    {
     "data": {
      "text/plain": [
       "(113, 94)"
      ]
     },
     "execution_count": 9,
     "metadata": {},
     "output_type": "execute_result"
    }
   ],
   "source": [
    "from sklearn.decomposition import PCA\n",
    "pca = PCA(n_components=94)    # <- 90% variance \n",
    "pca.fit(FP_mat)\n",
    "#for i, evr in enumerate(pca.explained_variance_ratio_):\n",
    "#    print(i, evr, pca.explained_variance_ratio_[:i+1].sum())\n",
    "FP_mat_pc=pca.transform(FP_mat)\n",
    "FP_mat_pc.shape"
   ]
  },
  {
   "cell_type": "code",
   "execution_count": 10,
   "id": "c2920a34-1bd3-46d8-96ad-eca5a8dbad92",
   "metadata": {
    "tags": []
   },
   "outputs": [
    {
     "name": "stdout",
     "output_type": "stream",
     "text": [
      "[[ -3.5322  -0.467    0.8442   0.0368   0.9345  -0.6042]\n",
      " [ -2.9772  -2.1128   0.8218  -0.3365  -0.0514  -0.8317]\n",
      " [ -1.5327  -1.3778   0.6227   0.4348   0.5449  -0.8712]\n",
      " [  7.0782   2.0974  -2.5411   0.8904   1.172    6.1075]\n",
      " [ -6.1487  -1.8197   0.6819   0.3906  -0.0641  -1.5571]\n",
      " [ -5.4575  -0.5417   1.7154  -0.5141   0.0476  -0.5196]\n",
      " [ -2.9708  -0.5434   1.2488  -0.3926  -0.8396   0.0683]\n",
      " [ -2.5091  -0.8073   0.2025  -1.0201   0.6703  -0.1879]\n",
      " [  5.2397   7.8242 -23.6397 -11.4635  -1.0543   0.402 ]\n",
      " [ -3.1936  -1.2315   1.2402  -1.207   -0.1361   0.1872]\n",
      " [  3.3464   3.4332 -16.4992  -8.9099  -1.8966   1.7292]\n",
      " [ -3.4219  -1.3685   1.5388  -0.5497  -0.3422  -0.556 ]\n",
      " [ -2.1733  -0.29     0.0061  -1.4945  -0.5369  -0.0661]\n",
      " [ -2.8394  -1.4331   1.7161  -1.2895   0.1176  -0.8376]\n",
      " [ -2.7725  -0.9872   1.2544   0.2339  -0.6769   0.1034]\n",
      " [  5.5303   1.6524   0.2447   5.3179   5.5337   0.8362]\n",
      " [ -2.5769  -0.9288  -0.0819  -0.6815   1.1657  -0.0905]\n",
      " [ -3.1831  -1.4232   1.0379   0.2034  -1.0103   0.2607]\n",
      " [ -2.7775  -1.5181   1.1076  -0.5887  -1.3869   1.0912]\n",
      " [ -3.4642  -1.2092   0.1218  -0.264   -0.6686  -0.8929]\n",
      " [ -2.5239  -0.8348   0.8167   0.6802   1.1709   4.0358]\n",
      " [ -1.8309  -1.4995  -0.2834  -0.4043   0.4348  -0.0673]\n",
      " [  0.2117  -1.013    1.5572   0.4805  -0.2926   0.4903]\n",
      " [  8.4552   3.6305   1.1346   4.1447   5.9011  28.8076]\n",
      " [ -2.0491  -0.8087   0.8836  -0.6178  -0.8084   0.454 ]\n",
      " [ -3.8995  -2.1425   1.1831  -0.2974  -0.1867  -0.4683]\n",
      " [ -1.3195  -1.2853   1.939   -0.5124   0.6517   0.1557]\n",
      " [ -1.8883  -0.7371   1.1319   0.3909   0.7202  -0.5665]\n",
      " [ 13.7449   9.2765  -8.4218  19.6025  41.3347  -6.5991]\n",
      " [ -2.1134   0.0299   0.9184   0.1735   0.4093  -1.2213]]\n"
     ]
    }
   ],
   "source": [
    "with np.printoptions(precision=4, suppress=True):\n",
    "    print(FP_mat_pc[:30, :6])"
   ]
  },
  {
   "cell_type": "markdown",
   "id": "b006d3c3-337a-4b38-8339-7347c6bf42b4",
   "metadata": {},
   "source": [
    "## Waiting for the molecular data\n",
    "\n",
    "This matrix can now finally be processed with the molecular information for generating the data sets for the models\n",
    "\n",
    "First get the UP_Ids for the models"
   ]
  },
  {
   "cell_type": "code",
   "execution_count": 26,
   "id": "a6bc4d8f-118e-44cc-a169-f2c2cd7d90dc",
   "metadata": {
    "tags": []
   },
   "outputs": [
    {
     "data": {
      "text/plain": [
       "(97, 2048)"
      ]
     },
     "execution_count": 26,
     "metadata": {},
     "output_type": "execute_result"
    }
   ],
   "source": [
    "pid='O43193'\n",
    "mol_data = pickle.load(open('../../Desktop/PDB_data/mol_data/{}_with_id.pickle'.format(pid),'rb'))\n",
    "N = len(mol_data)\n",
    "M = len(mol_data[0][1])\n",
    "N,M"
   ]
  },
  {
   "cell_type": "code",
   "execution_count": 37,
   "id": "c96375ff-7b91-49e1-8216-5bf4bbcbe75d",
   "metadata": {
    "tags": []
   },
   "outputs": [
    {
     "name": "stdout",
     "output_type": "stream",
     "text": [
      "0 O14842 139\n",
      "1 O43193 97\n",
      "2 O43613 1574\n",
      "3 O43614 1732\n",
      "4 P05067 382\n",
      "5 P07550 630\n",
      "6 P08172 1565\n",
      "7 P08173 853\n",
      "8 P08588 429\n",
      "9 P08908 4741\n",
      "10 P08912 780\n",
      "11 P08913 914\n",
      "12 P11229 1452\n",
      "13 P14416 8045\n",
      "14 P18089 558\n",
      "15 P18825 683\n",
      "16 P20309 1525\n",
      "17 P21452 862\n",
      "18 P21453 139\n",
      "19 P21554 3991\n",
      "20 P21728 1401\n",
      "21 P21730 64\n",
      "22 P21917 2630\n",
      "23 P21918 526\n",
      "24 P24530 181\n",
      "25 P25021 533\n",
      "26 P25024 102\n",
      "27 P25025 218\n",
      "28 P25098 98\n",
      "29 P25101 236\n",
      "30 P25103 920\n",
      "31 P25106 94\n",
      "32 P25116 78\n",
      "33 P25929 654\n",
      "34 P28221 1085\n",
      "35 P28222 1040\n",
      "36 P28223 4219\n",
      "37 P28335 2633\n",
      "38 P28566 207\n",
      "39 P28845 321\n",
      "40 P29274 5578\n",
      "41 P29275 2652\n",
      "42 P30411 321\n",
      "43 P30518 439\n",
      "44 P30542 4812\n",
      "45 P30550 44\n",
      "46 P30556 149\n",
      "47 P30559 701\n",
      "48 P30874 440\n",
      "49 P30939 137\n",
      "50 P30968 734\n",
      "51 P30989 190\n",
      "52 P31391 316\n",
      "53 P32238 266\n",
      "54 P32239 522\n",
      "55 P32245 1946\n",
      "56 P32246 160\n",
      "57 P34947 368\n",
      "58 P34969 2577\n",
      "59 P34972 4717\n",
      "60 P34998 1506\n",
      "61 P35367 1526\n",
      "62 P35372 4629\n",
      "63 P35408 544\n",
      "64 P35414 230\n",
      "65 P35462 5106\n",
      "66 P37288 787\n",
      "67 P41143 4186\n",
      "68 P41145 3907\n",
      "69 P41146 1239\n",
      "70 P41594 526\n",
      "71 P41595 1503\n",
      "72 P41597 290\n",
      "73 P42345 517\n",
      "74 P43088 99\n",
      "75 P43115 503\n",
      "76 P43220 52\n",
      "77 P46663 755\n",
      "78 P47211 40\n",
      "79 P47871 303\n",
      "80 P47898 399\n",
      "81 P47900 444\n",
      "82 P48039 941\n",
      "83 P49146 289\n",
      "84 P49238 51\n",
      "85 P49286 905\n",
      "86 P50052 149\n",
      "87 P50391 220\n",
      "88 P50406 3777\n",
      "89 P51677 408\n",
      "90 P51681 160\n",
      "91 P51686 68\n",
      "92 Q01726 461\n",
      "93 Q05397 724\n",
      "94 Q08499 90\n",
      "95 Q13255 95\n",
      "96 Q13639 470\n",
      "97 Q14289 425\n",
      "98 Q14416 194\n",
      "99 Q14832 85\n",
      "100 Q15722 143\n",
      "101 Q16602 501\n",
      "102 Q92633 76\n",
      "103 Q92847 688\n",
      "104 Q9H244 637\n",
      "105 Q9HC97 59\n",
      "106 Q9NQS5 73\n",
      "107 Q9UKP6 324\n",
      "108 Q9Y5N1 3902\n",
      "109 Q9Y5Y4 1095\n",
      "110 P43116 348\n",
      "111 Q6DWJ6 93\n",
      "112 Q8TDV5 48\n"
     ]
    }
   ],
   "source": [
    "X_list=[]\n",
    "y_list=[]\n",
    "for i, pid in enumerate(prots_ok):\n",
    "    mol_data = pickle.load(open('../../Desktop/PDB_data/mol_data/{}_with_id.pickle'.format(pid),'rb'))\n",
    "    print(i, pid, len(mol_data))\n",
    "    for mid, fp, y in mol_data:\n",
    "        X_list.append(fp + list(FP_mat_pc[i])) \n",
    "        y_list.append(y)"
   ]
  },
  {
   "cell_type": "markdown",
   "id": "6922972c-bd9e-4089-b7f0-e672c8854e18",
   "metadata": {},
   "source": [
    "## Making models\n",
    "\n",
    "First partition the dataset into training and testing"
   ]
  },
  {
   "cell_type": "code",
   "execution_count": 48,
   "id": "ca1d6e59-0b3d-473e-9857-3fdfbd5ed65f",
   "metadata": {
    "tags": []
   },
   "outputs": [
    {
     "data": {
      "text/plain": [
       "((97592, 2142), (24398, 2142))"
      ]
     },
     "execution_count": 48,
     "metadata": {},
     "output_type": "execute_result"
    }
   ],
   "source": [
    "from sklearn.model_selection import train_test_split\n",
    "\n",
    "X = np.array(X_list)\n",
    "y = np.array(y_list)\n",
    "X_train, X_test, y_train, y_test= train_test_split(X, y, test_size=0.2, random_state=123)\n",
    "X_train.shape, X_test.shape"
   ]
  },
  {
   "cell_type": "markdown",
   "id": "f316e8d7-906a-433a-b491-2587a82ab534",
   "metadata": {},
   "source": [
    "Fit the sucker - **THIS TAKES TIME 1-2 HOURS**"
   ]
  },
  {
   "cell_type": "code",
   "execution_count": 44,
   "id": "a6ef07d2-603e-4dc2-9a3e-acd9c233b572",
   "metadata": {
    "tags": []
   },
   "outputs": [
    {
     "data": {
      "text/html": [
       "<style>#sk-container-id-1 {color: black;}#sk-container-id-1 pre{padding: 0;}#sk-container-id-1 div.sk-toggleable {background-color: white;}#sk-container-id-1 label.sk-toggleable__label {cursor: pointer;display: block;width: 100%;margin-bottom: 0;padding: 0.3em;box-sizing: border-box;text-align: center;}#sk-container-id-1 label.sk-toggleable__label-arrow:before {content: \"▸\";float: left;margin-right: 0.25em;color: #696969;}#sk-container-id-1 label.sk-toggleable__label-arrow:hover:before {color: black;}#sk-container-id-1 div.sk-estimator:hover label.sk-toggleable__label-arrow:before {color: black;}#sk-container-id-1 div.sk-toggleable__content {max-height: 0;max-width: 0;overflow: hidden;text-align: left;background-color: #f0f8ff;}#sk-container-id-1 div.sk-toggleable__content pre {margin: 0.2em;color: black;border-radius: 0.25em;background-color: #f0f8ff;}#sk-container-id-1 input.sk-toggleable__control:checked~div.sk-toggleable__content {max-height: 200px;max-width: 100%;overflow: auto;}#sk-container-id-1 input.sk-toggleable__control:checked~label.sk-toggleable__label-arrow:before {content: \"▾\";}#sk-container-id-1 div.sk-estimator input.sk-toggleable__control:checked~label.sk-toggleable__label {background-color: #d4ebff;}#sk-container-id-1 div.sk-label input.sk-toggleable__control:checked~label.sk-toggleable__label {background-color: #d4ebff;}#sk-container-id-1 input.sk-hidden--visually {border: 0;clip: rect(1px 1px 1px 1px);clip: rect(1px, 1px, 1px, 1px);height: 1px;margin: -1px;overflow: hidden;padding: 0;position: absolute;width: 1px;}#sk-container-id-1 div.sk-estimator {font-family: monospace;background-color: #f0f8ff;border: 1px dotted black;border-radius: 0.25em;box-sizing: border-box;margin-bottom: 0.5em;}#sk-container-id-1 div.sk-estimator:hover {background-color: #d4ebff;}#sk-container-id-1 div.sk-parallel-item::after {content: \"\";width: 100%;border-bottom: 1px solid gray;flex-grow: 1;}#sk-container-id-1 div.sk-label:hover label.sk-toggleable__label {background-color: #d4ebff;}#sk-container-id-1 div.sk-serial::before {content: \"\";position: absolute;border-left: 1px solid gray;box-sizing: border-box;top: 0;bottom: 0;left: 50%;z-index: 0;}#sk-container-id-1 div.sk-serial {display: flex;flex-direction: column;align-items: center;background-color: white;padding-right: 0.2em;padding-left: 0.2em;position: relative;}#sk-container-id-1 div.sk-item {position: relative;z-index: 1;}#sk-container-id-1 div.sk-parallel {display: flex;align-items: stretch;justify-content: center;background-color: white;position: relative;}#sk-container-id-1 div.sk-item::before, #sk-container-id-1 div.sk-parallel-item::before {content: \"\";position: absolute;border-left: 1px solid gray;box-sizing: border-box;top: 0;bottom: 0;left: 50%;z-index: -1;}#sk-container-id-1 div.sk-parallel-item {display: flex;flex-direction: column;z-index: 1;position: relative;background-color: white;}#sk-container-id-1 div.sk-parallel-item:first-child::after {align-self: flex-end;width: 50%;}#sk-container-id-1 div.sk-parallel-item:last-child::after {align-self: flex-start;width: 50%;}#sk-container-id-1 div.sk-parallel-item:only-child::after {width: 0;}#sk-container-id-1 div.sk-dashed-wrapped {border: 1px dashed gray;margin: 0 0.4em 0.5em 0.4em;box-sizing: border-box;padding-bottom: 0.4em;background-color: white;}#sk-container-id-1 div.sk-label label {font-family: monospace;font-weight: bold;display: inline-block;line-height: 1.2em;}#sk-container-id-1 div.sk-label-container {text-align: center;}#sk-container-id-1 div.sk-container {/* jupyter's `normalize.less` sets `[hidden] { display: none; }` but bootstrap.min.css set `[hidden] { display: none !important; }` so we also need the `!important` here to be able to override the default hidden behavior on the sphinx rendered scikit-learn.org. See: https://github.com/scikit-learn/scikit-learn/issues/21755 */display: inline-block !important;position: relative;}#sk-container-id-1 div.sk-text-repr-fallback {display: none;}</style><div id=\"sk-container-id-1\" class=\"sk-top-container\"><div class=\"sk-text-repr-fallback\"><pre>RandomForestRegressor(n_estimators=200, n_jobs=6)</pre><b>In a Jupyter environment, please rerun this cell to show the HTML representation or trust the notebook. <br />On GitHub, the HTML representation is unable to render, please try loading this page with nbviewer.org.</b></div><div class=\"sk-container\" hidden><div class=\"sk-item\"><div class=\"sk-estimator sk-toggleable\"><input class=\"sk-toggleable__control sk-hidden--visually\" id=\"sk-estimator-id-1\" type=\"checkbox\" checked><label for=\"sk-estimator-id-1\" class=\"sk-toggleable__label sk-toggleable__label-arrow\">RandomForestRegressor</label><div class=\"sk-toggleable__content\"><pre>RandomForestRegressor(n_estimators=200, n_jobs=6)</pre></div></div></div></div></div>"
      ],
      "text/plain": [
       "RandomForestRegressor(n_estimators=200, n_jobs=6)"
      ]
     },
     "execution_count": 44,
     "metadata": {},
     "output_type": "execute_result"
    }
   ],
   "source": [
    "from sklearn.ensemble import RandomForestRegressor\n",
    "\n",
    "mdl=RandomForestRegressor(n_estimators=200, n_jobs=6)\n",
    "mdl.fit(X_train, y_train)\n"
   ]
  },
  {
   "cell_type": "code",
   "execution_count": 47,
   "id": "73be4368-060c-4704-b3da-2ebbbccaf19d",
   "metadata": {
    "tags": []
   },
   "outputs": [
    {
     "data": {
      "text/plain": [
       "(0.17016729004459794, 0.7239023891825048)"
      ]
     },
     "execution_count": 47,
     "metadata": {},
     "output_type": "execute_result"
    }
   ],
   "source": [
    "from sklearn.metrics import mean_squared_error, explained_variance_score\n",
    "\n",
    "preds = mdl.predict(X_test)\n",
    "rmse_test = mean_squared_error(y_test, preds, squared=False) \n",
    "expvar_test = explained_variance_score(y_test, preds)\n",
    "\n",
    "rmse_test, expvar_test"
   ]
  },
  {
   "cell_type": "markdown",
   "id": "e0739a16-a6c8-47ed-9c35-6727698d1c31",
   "metadata": {
    "tags": []
   },
   "source": [
    "## Now with Alphafold\n"
   ]
  },
  {
   "cell_type": "code",
   "execution_count": 51,
   "id": "b67e7f31-938b-427e-ae25-723c407e4556",
   "metadata": {
    "tags": []
   },
   "outputs": [
    {
     "name": "stdout",
     "output_type": "stream",
     "text": [
      "(113, 16381)\n"
     ]
    },
    {
     "data": {
      "text/plain": [
       "array([[0, 0, 0, 0, 0, 0, 0, 0, 0, 0, 0, 0, 0, 0, 0, 0, 0, 0, 0, 0],\n",
       "       [0, 0, 1, 1, 0, 0, 0, 0, 0, 0, 0, 0, 0, 0, 0, 0, 0, 0, 0, 0],\n",
       "       [0, 0, 1, 0, 0, 0, 0, 0, 0, 0, 0, 0, 0, 0, 0, 0, 0, 1, 1, 0],\n",
       "       [0, 1, 1, 0, 0, 0, 0, 0, 0, 0, 1, 0, 0, 0, 0, 0, 1, 1, 0, 0],\n",
       "       [1, 1, 0, 0, 1, 0, 1, 0, 0, 0, 0, 1, 0, 0, 1, 0, 0, 1, 0, 1],\n",
       "       [0, 0, 0, 0, 0, 0, 0, 0, 0, 0, 0, 0, 0, 0, 0, 0, 0, 0, 1, 0],\n",
       "       [0, 0, 0, 0, 0, 0, 1, 1, 0, 0, 0, 1, 0, 0, 1, 0, 1, 0, 0, 0],\n",
       "       [0, 0, 0, 0, 0, 0, 1, 1, 0, 0, 0, 0, 0, 0, 0, 0, 0, 1, 0, 0],\n",
       "       [0, 0, 1, 0, 0, 0, 0, 0, 1, 0, 0, 0, 0, 0, 1, 0, 0, 0, 0, 0],\n",
       "       [1, 0, 0, 0, 0, 0, 0, 0, 1, 0, 0, 0, 0, 0, 0, 0, 0, 0, 0, 0]])"
      ]
     },
     "execution_count": 51,
     "metadata": {},
     "output_type": "execute_result"
    }
   ],
   "source": [
    "dist = 5\n",
    "N=len(prots_ok)\n",
    "M=16381 #fp num bits\n",
    "FP_mat_AF=np.zeros((N,M), int)\n",
    "for i, prot in enumerate(prots_ok):\n",
    "    FP_mat_AF[i,:]=pickle.load(open(\"../../Desktop/PDB_data/af_paas/{}_D{}.pickle\".format(prot,dist), \"rb\"))\n",
    "\n",
    "print(FP_mat_AF.shape)\n",
    "FP_mat_AF[:10, :20]"
   ]
  },
  {
   "cell_type": "markdown",
   "id": "86d7a98f-99f8-455c-8e96-ddeb83d0f72f",
   "metadata": {},
   "source": [
    "Same drill - must do the PCA"
   ]
  },
  {
   "cell_type": "code",
   "execution_count": 53,
   "id": "59403cdd-3d76-4ee4-a888-c3867b69f7bf",
   "metadata": {
    "tags": []
   },
   "outputs": [
    {
     "data": {
      "text/plain": [
       "(113, 96)"
      ]
     },
     "execution_count": 53,
     "metadata": {},
     "output_type": "execute_result"
    }
   ],
   "source": [
    "pca = PCA(n_components=96)    # <- 90% variance \n",
    "pca.fit(FP_mat_AF)\n",
    "#for i, evr in enumerate(pca.explained_variance_ratio_):\n",
    "#    print(i, evr, pca.explained_variance_ratio_[:i+1].sum())\n",
    "FP_mat_AF_pc=pca.transform(FP_mat_AF)\n",
    "FP_mat_AF_pc.shape"
   ]
  },
  {
   "cell_type": "markdown",
   "id": "1eee1b31-b305-45c2-a764-c7e2028b0bcc",
   "metadata": {},
   "source": [
    "Make the dataset with the same procedure"
   ]
  },
  {
   "cell_type": "code",
   "execution_count": 54,
   "id": "817e2dcf-db9f-48cf-b1fd-3559e6cf8115",
   "metadata": {
    "tags": []
   },
   "outputs": [
    {
     "name": "stdout",
     "output_type": "stream",
     "text": [
      "0 O14842 139\n",
      "1 O43193 97\n",
      "2 O43613 1574\n",
      "3 O43614 1732\n",
      "4 P05067 382\n",
      "5 P07550 630\n",
      "6 P08172 1565\n",
      "7 P08173 853\n",
      "8 P08588 429\n",
      "9 P08908 4741\n",
      "10 P08912 780\n",
      "11 P08913 914\n",
      "12 P11229 1452\n",
      "13 P14416 8045\n",
      "14 P18089 558\n",
      "15 P18825 683\n",
      "16 P20309 1525\n",
      "17 P21452 862\n",
      "18 P21453 139\n",
      "19 P21554 3991\n",
      "20 P21728 1401\n",
      "21 P21730 64\n",
      "22 P21917 2630\n",
      "23 P21918 526\n",
      "24 P24530 181\n",
      "25 P25021 533\n",
      "26 P25024 102\n",
      "27 P25025 218\n",
      "28 P25098 98\n",
      "29 P25101 236\n",
      "30 P25103 920\n",
      "31 P25106 94\n",
      "32 P25116 78\n",
      "33 P25929 654\n",
      "34 P28221 1085\n",
      "35 P28222 1040\n",
      "36 P28223 4219\n",
      "37 P28335 2633\n",
      "38 P28566 207\n",
      "39 P28845 321\n",
      "40 P29274 5578\n",
      "41 P29275 2652\n",
      "42 P30411 321\n",
      "43 P30518 439\n",
      "44 P30542 4812\n",
      "45 P30550 44\n",
      "46 P30556 149\n",
      "47 P30559 701\n",
      "48 P30874 440\n",
      "49 P30939 137\n",
      "50 P30968 734\n",
      "51 P30989 190\n",
      "52 P31391 316\n",
      "53 P32238 266\n",
      "54 P32239 522\n",
      "55 P32245 1946\n",
      "56 P32246 160\n",
      "57 P34947 368\n",
      "58 P34969 2577\n",
      "59 P34972 4717\n",
      "60 P34998 1506\n",
      "61 P35367 1526\n",
      "62 P35372 4629\n",
      "63 P35408 544\n",
      "64 P35414 230\n",
      "65 P35462 5106\n",
      "66 P37288 787\n",
      "67 P41143 4186\n",
      "68 P41145 3907\n",
      "69 P41146 1239\n",
      "70 P41594 526\n",
      "71 P41595 1503\n",
      "72 P41597 290\n",
      "73 P42345 517\n",
      "74 P43088 99\n",
      "75 P43115 503\n",
      "76 P43220 52\n",
      "77 P46663 755\n",
      "78 P47211 40\n",
      "79 P47871 303\n",
      "80 P47898 399\n",
      "81 P47900 444\n",
      "82 P48039 941\n",
      "83 P49146 289\n",
      "84 P49238 51\n",
      "85 P49286 905\n",
      "86 P50052 149\n",
      "87 P50391 220\n",
      "88 P50406 3777\n",
      "89 P51677 408\n",
      "90 P51681 160\n",
      "91 P51686 68\n",
      "92 Q01726 461\n",
      "93 Q05397 724\n",
      "94 Q08499 90\n",
      "95 Q13255 95\n",
      "96 Q13639 470\n",
      "97 Q14289 425\n",
      "98 Q14416 194\n",
      "99 Q14832 85\n",
      "100 Q15722 143\n",
      "101 Q16602 501\n",
      "102 Q92633 76\n",
      "103 Q92847 688\n",
      "104 Q9H244 637\n",
      "105 Q9HC97 59\n",
      "106 Q9NQS5 73\n",
      "107 Q9UKP6 324\n",
      "108 Q9Y5N1 3902\n",
      "109 Q9Y5Y4 1095\n",
      "110 P43116 348\n",
      "111 Q6DWJ6 93\n",
      "112 Q8TDV5 48\n"
     ]
    }
   ],
   "source": [
    "X_AF_list=[]\n",
    "y_AF_list=[]\n",
    "for i, pid in enumerate(prots_ok):\n",
    "    mol_data = pickle.load(open('../../Desktop/PDB_data/mol_data/{}_with_id.pickle'.format(pid),'rb'))\n",
    "    print(i, pid, len(mol_data))\n",
    "    for mid, fp, y in mol_data:\n",
    "        X_AF_list.append(fp + list(FP_mat_AF_pc[i])) \n",
    "        y_AF_list.append(y)"
   ]
  },
  {
   "cell_type": "code",
   "execution_count": 55,
   "id": "24cc2d4b-462a-4669-9ef3-12afab22e4f6",
   "metadata": {
    "tags": []
   },
   "outputs": [
    {
     "data": {
      "text/plain": [
       "((97592, 2144), (24398, 2144))"
      ]
     },
     "execution_count": 55,
     "metadata": {},
     "output_type": "execute_result"
    }
   ],
   "source": [
    "Xaf = np.array(X_AF_list)\n",
    "yaf = np.array(y_AF_list)\n",
    "Xaf_train, Xaf_test, yaf_train, yaf_test= train_test_split(Xaf, yaf, test_size=0.2, random_state=123)\n",
    "Xaf_train.shape, Xaf_test.shape"
   ]
  },
  {
   "cell_type": "code",
   "execution_count": 56,
   "id": "d35a8f27-b868-4350-9de3-8d964e7ad3b5",
   "metadata": {
    "tags": []
   },
   "outputs": [
    {
     "data": {
      "text/plain": [
       "array([0.93   , 0.935  , 0.     , 0.6925 , 0.6875 , 0.465  , 0.295  ,\n",
       "       0.95   , 0.38   , 0.2575 , 0.4925 , 0.90375, 0.     , 0.4925 ,\n",
       "       0.73   , 0.615  , 0.7225 , 0.     , 0.275  , 0.     ])"
      ]
     },
     "execution_count": 56,
     "metadata": {},
     "output_type": "execute_result"
    }
   ],
   "source": [
    "y_test[:20]"
   ]
  },
  {
   "cell_type": "code",
   "execution_count": 57,
   "id": "e23b8fa8-f5f8-491f-a7de-114d7ef9be8a",
   "metadata": {
    "tags": []
   },
   "outputs": [
    {
     "data": {
      "text/plain": [
       "array([0.93   , 0.935  , 0.     , 0.6925 , 0.6875 , 0.465  , 0.295  ,\n",
       "       0.95   , 0.38   , 0.2575 , 0.4925 , 0.90375, 0.     , 0.4925 ,\n",
       "       0.73   , 0.615  , 0.7225 , 0.     , 0.275  , 0.     ])"
      ]
     },
     "execution_count": 57,
     "metadata": {},
     "output_type": "execute_result"
    }
   ],
   "source": [
    "yaf_test[:20]"
   ]
  },
  {
   "cell_type": "markdown",
   "id": "be0d8da7-320d-4e95-b973-430e15e51800",
   "metadata": {},
   "source": [
    "Train the model..."
   ]
  },
  {
   "cell_type": "code",
   "execution_count": 58,
   "id": "aae79b8b-4ba5-41e1-8806-8e54635b7275",
   "metadata": {
    "tags": []
   },
   "outputs": [
    {
     "data": {
      "text/html": [
       "<style>#sk-container-id-2 {color: black;}#sk-container-id-2 pre{padding: 0;}#sk-container-id-2 div.sk-toggleable {background-color: white;}#sk-container-id-2 label.sk-toggleable__label {cursor: pointer;display: block;width: 100%;margin-bottom: 0;padding: 0.3em;box-sizing: border-box;text-align: center;}#sk-container-id-2 label.sk-toggleable__label-arrow:before {content: \"▸\";float: left;margin-right: 0.25em;color: #696969;}#sk-container-id-2 label.sk-toggleable__label-arrow:hover:before {color: black;}#sk-container-id-2 div.sk-estimator:hover label.sk-toggleable__label-arrow:before {color: black;}#sk-container-id-2 div.sk-toggleable__content {max-height: 0;max-width: 0;overflow: hidden;text-align: left;background-color: #f0f8ff;}#sk-container-id-2 div.sk-toggleable__content pre {margin: 0.2em;color: black;border-radius: 0.25em;background-color: #f0f8ff;}#sk-container-id-2 input.sk-toggleable__control:checked~div.sk-toggleable__content {max-height: 200px;max-width: 100%;overflow: auto;}#sk-container-id-2 input.sk-toggleable__control:checked~label.sk-toggleable__label-arrow:before {content: \"▾\";}#sk-container-id-2 div.sk-estimator input.sk-toggleable__control:checked~label.sk-toggleable__label {background-color: #d4ebff;}#sk-container-id-2 div.sk-label input.sk-toggleable__control:checked~label.sk-toggleable__label {background-color: #d4ebff;}#sk-container-id-2 input.sk-hidden--visually {border: 0;clip: rect(1px 1px 1px 1px);clip: rect(1px, 1px, 1px, 1px);height: 1px;margin: -1px;overflow: hidden;padding: 0;position: absolute;width: 1px;}#sk-container-id-2 div.sk-estimator {font-family: monospace;background-color: #f0f8ff;border: 1px dotted black;border-radius: 0.25em;box-sizing: border-box;margin-bottom: 0.5em;}#sk-container-id-2 div.sk-estimator:hover {background-color: #d4ebff;}#sk-container-id-2 div.sk-parallel-item::after {content: \"\";width: 100%;border-bottom: 1px solid gray;flex-grow: 1;}#sk-container-id-2 div.sk-label:hover label.sk-toggleable__label {background-color: #d4ebff;}#sk-container-id-2 div.sk-serial::before {content: \"\";position: absolute;border-left: 1px solid gray;box-sizing: border-box;top: 0;bottom: 0;left: 50%;z-index: 0;}#sk-container-id-2 div.sk-serial {display: flex;flex-direction: column;align-items: center;background-color: white;padding-right: 0.2em;padding-left: 0.2em;position: relative;}#sk-container-id-2 div.sk-item {position: relative;z-index: 1;}#sk-container-id-2 div.sk-parallel {display: flex;align-items: stretch;justify-content: center;background-color: white;position: relative;}#sk-container-id-2 div.sk-item::before, #sk-container-id-2 div.sk-parallel-item::before {content: \"\";position: absolute;border-left: 1px solid gray;box-sizing: border-box;top: 0;bottom: 0;left: 50%;z-index: -1;}#sk-container-id-2 div.sk-parallel-item {display: flex;flex-direction: column;z-index: 1;position: relative;background-color: white;}#sk-container-id-2 div.sk-parallel-item:first-child::after {align-self: flex-end;width: 50%;}#sk-container-id-2 div.sk-parallel-item:last-child::after {align-self: flex-start;width: 50%;}#sk-container-id-2 div.sk-parallel-item:only-child::after {width: 0;}#sk-container-id-2 div.sk-dashed-wrapped {border: 1px dashed gray;margin: 0 0.4em 0.5em 0.4em;box-sizing: border-box;padding-bottom: 0.4em;background-color: white;}#sk-container-id-2 div.sk-label label {font-family: monospace;font-weight: bold;display: inline-block;line-height: 1.2em;}#sk-container-id-2 div.sk-label-container {text-align: center;}#sk-container-id-2 div.sk-container {/* jupyter's `normalize.less` sets `[hidden] { display: none; }` but bootstrap.min.css set `[hidden] { display: none !important; }` so we also need the `!important` here to be able to override the default hidden behavior on the sphinx rendered scikit-learn.org. See: https://github.com/scikit-learn/scikit-learn/issues/21755 */display: inline-block !important;position: relative;}#sk-container-id-2 div.sk-text-repr-fallback {display: none;}</style><div id=\"sk-container-id-2\" class=\"sk-top-container\"><div class=\"sk-text-repr-fallback\"><pre>RandomForestRegressor(n_estimators=200, n_jobs=6)</pre><b>In a Jupyter environment, please rerun this cell to show the HTML representation or trust the notebook. <br />On GitHub, the HTML representation is unable to render, please try loading this page with nbviewer.org.</b></div><div class=\"sk-container\" hidden><div class=\"sk-item\"><div class=\"sk-estimator sk-toggleable\"><input class=\"sk-toggleable__control sk-hidden--visually\" id=\"sk-estimator-id-2\" type=\"checkbox\" checked><label for=\"sk-estimator-id-2\" class=\"sk-toggleable__label sk-toggleable__label-arrow\">RandomForestRegressor</label><div class=\"sk-toggleable__content\"><pre>RandomForestRegressor(n_estimators=200, n_jobs=6)</pre></div></div></div></div></div>"
      ],
      "text/plain": [
       "RandomForestRegressor(n_estimators=200, n_jobs=6)"
      ]
     },
     "execution_count": 58,
     "metadata": {},
     "output_type": "execute_result"
    }
   ],
   "source": [
    "mdl=RandomForestRegressor(n_estimators=200, n_jobs=6)\n",
    "mdl.fit(Xaf_train, yaf_train)"
   ]
  },
  {
   "cell_type": "code",
   "execution_count": 59,
   "id": "1e468cf3-a854-47c7-be51-678f4848b18d",
   "metadata": {
    "tags": []
   },
   "outputs": [
    {
     "data": {
      "text/plain": [
       "(0.16985596544941534, 0.7249091224664415)"
      ]
     },
     "execution_count": 59,
     "metadata": {},
     "output_type": "execute_result"
    }
   ],
   "source": [
    "preds = mdl.predict(Xaf_test)\n",
    "rmse_test = mean_squared_error(yaf_test, preds, squared=False) \n",
    "expvar_test = explained_variance_score(yaf_test, preds)\n",
    "\n",
    "rmse_test, expvar_test"
   ]
  }
 ],
 "metadata": {
  "kernelspec": {
   "display_name": "Python 3 (ipykernel)",
   "language": "python",
   "name": "python3"
  },
  "language_info": {
   "codemirror_mode": {
    "name": "ipython",
    "version": 3
   },
   "file_extension": ".py",
   "mimetype": "text/x-python",
   "name": "python",
   "nbconvert_exporter": "python",
   "pygments_lexer": "ipython3",
   "version": "3.11.5"
  }
 },
 "nbformat": 4,
 "nbformat_minor": 5
}
